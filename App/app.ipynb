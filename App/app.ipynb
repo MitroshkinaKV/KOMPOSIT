{
  "cells": [
    {
      "cell_type": "code",
      "execution_count": null,
      "id": "dbb6e6b8",
      "metadata": {
        "id": "dbb6e6b8"
      },
      "outputs": [],
      "source": [
        "# Создаем пользовательское приложение для прогнозирования \"соотношения матрица-наполнитель\""
      ]
    },
    {
      "cell_type": "code",
      "execution_count": null,
      "id": "e5a4099b",
      "metadata": {
        "id": "e5a4099b"
      },
      "outputs": [],
      "source": [
        "# Импортируем необходимые библиотеки для нашего приложения\n",
        "import flask \n",
        "import numpy as np\n",
        "import tensorflow as tf\n",
        "from tensorflow import keras\n",
        "from flask import Flask, request, render_template"
      ]
    },
    {
      "cell_type": "code",
      "execution_count": null,
      "id": "1194146d",
      "metadata": {
        "id": "1194146d"
      },
      "outputs": [],
      "source": [
        "app = Flask(__name__, template_folder = 'templates')"
      ]
    },
    {
      "cell_type": "code",
      "execution_count": null,
      "id": "13d682fb",
      "metadata": {
        "id": "13d682fb"
      },
      "outputs": [],
      "source": [
        "# Загружаем модель и определяем параметры функции  -  будущие входы для модели (всего 12 параметров)\n",
        "\n",
        "def set_params(param1, param2, param3, param4, param5, param6, param7, param8, param9, param10, param11, param12):\n",
        "\n",
        "    # model = keras.models.load_model(\"C:\\ВКР\\App\\s_model\\k_m\\saved_model\")\n",
        "    model = keras.models.load_model(\"s_model\\k_m\")\n",
        "    prediction = model.predict([param1, param2, param3, param4, param5, param6, param7, param8, param9, param10, param11, param12])\n",
        "\n",
        "    return prediction[0][0]"
      ]
    },
    {
      "cell_type": "code",
      "execution_count": null,
      "id": "c9bdb9ff",
      "metadata": {
        "id": "c9bdb9ff"
      },
      "outputs": [],
      "source": [
        "@app.route('/', methods=['POST', 'GET'])\n",
        "\n",
        "def app_calculation():\n",
        "    param_lst = []\n",
        "    message = ''\n",
        "    if request.method == 'POST':\n",
        "          # получим данные из наших форм и кладем их в список, который затем передадим функции set_params\n",
        "        for i in range(1,13,1):\n",
        "            param = request.form.get(f'param{i}')\n",
        "            param_lst.append(float(param))\n",
        "            \n",
        "        message = set_params(*param_lst)\n",
        "        # указываем шаблон и прототип сайта для вывода    \n",
        "    return render_template(\"index.html\",message=message) \n",
        "    # return render_template(\"C:\\ВКР\\App\\templates\\index.html\",message=message) \n",
        "        "
      ]
    },
    {
      "cell_type": "code",
      "execution_count": null,
      "id": "874712dd",
      "metadata": {
        "id": "874712dd",
        "outputId": "903e98bc-87b7-4e7c-9afe-e689e714cc3f"
      },
      "outputs": [
        {
          "name": "stdout",
          "output_type": "stream",
          "text": [
            " * Serving Flask app \"__main__\" (lazy loading)\n",
            " * Environment: production\n",
            "   WARNING: This is a development server. Do not use it in a production deployment.\n",
            "   Use a production WSGI server instead.\n",
            " * Debug mode: off\n"
          ]
        },
        {
          "name": "stderr",
          "output_type": "stream",
          "text": [
            " * Running on http://127.0.0.1:5000/ (Press CTRL+C to quit)\n"
          ]
        }
      ],
      "source": [
        "# Запускаем приложение  \n",
        "app.run()"
      ]
    },
    {
      "cell_type": "code",
      "execution_count": null,
      "id": "e79e063e",
      "metadata": {
        "id": "e79e063e"
      },
      "outputs": [],
      "source": []
    }
  ],
  "metadata": {
    "kernelspec": {
      "display_name": "Python 3 (ipykernel)",
      "language": "python",
      "name": "python3"
    },
    "language_info": {
      "codemirror_mode": {
        "name": "ipython",
        "version": 3
      },
      "file_extension": ".py",
      "mimetype": "text/x-python",
      "name": "python",
      "nbconvert_exporter": "python",
      "pygments_lexer": "ipython3",
      "version": "3.9.12"
    },
    "colab": {
      "provenance": []
    }
  },
  "nbformat": 4,
  "nbformat_minor": 5
}